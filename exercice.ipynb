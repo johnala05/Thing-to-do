{
 "cells": [
  {
   "cell_type": "code",
   "execution_count": null,
   "metadata": {},
   "outputs": [],
   "source": [
    "# Section 3.1: How many seconds are in an hour?\n",
    "seconds_per_minute = 60\n",
    "minutes_per_hour = 60\n",
    "seconds_per_hour = seconds_per_minute * minutes_per_hour\n",
    "print(\"Seconds in an hour:\", seconds_per_hour)\n",
    "\n",
    "# Section 3.2: Assign the result to a variable called seconds_per_hour\n",
    "# (Already done in the previous step)\n",
    "\n",
    "# Section 3.3: How many seconds are in a day? Use your seconds_per_hour variable.\n",
    "hours_per_day = 24\n",
    "seconds_per_day = seconds_per_hour * hours_per_day\n",
    "print(\"Seconds in a day:\", seconds_per_day)\n",
    "\n",
    "# Section 3.4: Calculate seconds per day again, but save the result in a variable called seconds_per_day\n",
    "# (Already done in the previous step)\n",
    "\n",
    "# Section 3.5: Divide seconds_per_day by seconds_per_hour. Use floating-point (/) division.\n",
    "floating_point_division = seconds_per_day / seconds_per_hour\n",
    "print(\"Floating-point division (seconds_per_day / seconds_per_hour):\", floating_point_division)\n",
    "\n",
    "# Section 3.6: Divide seconds_per_day by seconds_per_hour, using integer (//) division.\n",
    "integer_division = seconds_per_day // seconds_per_hour\n",
    "print(\"Integer division (seconds_per_day // seconds_per_hour):\", integer_division)\n",
    "\n",
    "# Check if the integer division result agrees with the floating-point value aside from the final .0\n",
    "print(\"Does integer division agree with floating-point division aside from the final .0?\", floating_point_division == integer_division)"
   ]
  }
 ],
 "metadata": {
  "language_info": {
   "name": "python"
  }
 },
 "nbformat": 4,
 "nbformat_minor": 2
}
